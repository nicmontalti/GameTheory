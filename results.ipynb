{
 "cells": [
  {
   "cell_type": "code",
   "execution_count": 1,
   "metadata": {},
   "outputs": [],
   "source": [
    "import numpy as np\n",
    "from matplotlib import pyplot as plt\n",
    "import time\n",
    "from game import Game\n",
    "from functions import *\n",
    "import json"
   ]
  },
  {
   "cell_type": "code",
   "execution_count": null,
   "metadata": {},
   "outputs": [],
   "source": [
    "params = {\n",
    "    'T': 1.5,\n",
    "    'R': 1,\n",
    "    'S': 0,\n",
    "    'P': 0.3,\n",
    "    'L': 0.4,\n",
    "    'noise':0.001\n",
    "}\n",
    "\n",
    "Ts = np.linspace(1.1, 1.9, 9)\n",
    "result_alpha_eps = alpha_eps(Ts, params, iterations=10)\n",
    "\n",
    "timestr = time.strftime(\"%Y%m%d-%H%M%S\")\n",
    "name_alpha_eps = 'alpha_eps-'+timestr\n",
    "\n",
    "np.save('data/'+name_alpha_eps, result_alpha_eps)\n",
    "with open('data/'+name_alpha_eps+'.json', 'w', encoding ='utf8') as json_file:\n",
    "    json.dump(params, json_file, ensure_ascii = False)"
   ]
  },
  {
   "cell_type": "code",
   "execution_count": null,
   "metadata": {},
   "outputs": [],
   "source": [
    "name_file = name_alpha_eps\n",
    "games = np.load('data/'+name_file+'.npy')\n",
    "\n",
    "fig = plt.figure()\n",
    "axs = fig.subplots(2,1)\n",
    "\n",
    "colors = ['tab:orange', 'tab:olive', 'tab:cyan']\n",
    "names = ['PD', 'OPD', 'PDPA']\n",
    "for game, color, name in zip(games, colors, names):\n",
    "        axs[0].errorbar(game[-1], game[0], game[1], color=color, label=name, capsize=2, marker='.')\n",
    "        axs[1].errorbar(game[-1], game[2], game[3], color=color, label=name, capsize=2, marker='.')\n",
    "\n",
    "axs[1].set_xlabel('T')\n",
    "axs[1].set_ylabel(r'$\\alpha$')\n",
    "axs[0].set_ylabel(r'$\\epsilon$')\n",
    "axs[0].legend()\n",
    "axs[0].grid()\n",
    "axs[1].grid()\n",
    "axs[0].set_xticklabels([])\n",
    "\n",
    "fig.savefig('plots/'+name_file+'.pdf')\n",
    "with open('plots/'+name_alpha_eps+'.json', 'w', encoding ='utf8') as json_file:\n",
    "    json.dump(params, json_file, ensure_ascii = False)"
   ]
  },
  {
   "cell_type": "code",
   "execution_count": 10,
   "metadata": {},
   "outputs": [
    {
     "name": "stderr",
     "output_type": "stream",
     "text": [
      "/home/egg/uni/MSc_1.2_Eth/Game/functions.py:61: RuntimeWarning: invalid value encountered in scalar divide\n",
      "  ratio_mean = alpha_mean_coop / alpha_mean_def\n"
     ]
    }
   ],
   "source": [
    "params = {\n",
    "    'T': 1.1,\n",
    "    'R': 1,\n",
    "    'S': 0,\n",
    "    'P': 0.3,\n",
    "    'L': 0.4,\n",
    "    'noise':0.001\n",
    "}\n",
    "\n",
    "result_correlation = correlation(params, iterations=10)\n",
    "\n",
    "timestr = time.strftime(\"%Y%m%d-%H%M%S\")\n",
    "name_corr = 'correlation-'+timestr\n",
    "\n",
    "np.save('data/'+name_corr, result_correlation)\n",
    "with open('data/'+name_corr+'.json', 'w', encoding ='utf8') as json_file:\n",
    "    json.dump(params, json_file, ensure_ascii = False)"
   ]
  },
  {
   "cell_type": "code",
   "execution_count": 11,
   "metadata": {},
   "outputs": [
    {
     "data": {
      "image/png": "[encoded data removed]",
      "text/plain": [
       "<Figure size 640x480 with 1 Axes>"
      ]
     },
     "metadata": {},
     "output_type": "display_data"
    }
   ],
   "source": [
    "name_file = name_corr\n",
    "a = np.load('data/'+name_file+'.npy')\n",
    "\n",
    "fig = plt.figure()\n",
    "ax = fig.add_subplot()\n",
    "\n",
    "ax.errorbar(a[-1]-0.01, a[2], a[3], linestyle='', marker='.', color='tab:green', label='Cooperators', capsize=3)\n",
    "ax.errorbar(a[-1]+0.01, a[0], a[1], linestyle='', marker='.', color='tab:red', label='Defectors', capsize=3)\n",
    "ax.legend()\n",
    "ax.set_xlabel(r'$\\alpha$')\n",
    "ax.set_ylabel('Fraction of players')\n",
    "ax.set_xticks(a[-1])\n",
    "ax.grid()\n",
    "\n",
    "fig.savefig('plots/'+name_file+'.pdf')\n",
    "with open('plots/'+name_corr+'.json', 'w', encoding ='utf8') as json_file:\n",
    "    json.dump(params, json_file, ensure_ascii = False)"
   ]
  }
 ],
 "metadata": {
  "kernelspec": {
   "display_name": "Python 3",
   "language": "python",
   "name": "python3"
  },
  "language_info": {
   "codemirror_mode": {
    "name": "ipython",
    "version": 3
   },
   "file_extension": ".py",
   "mimetype": "text/x-python",
   "name": "python",
   "nbconvert_exporter": "python",
   "pygments_lexer": "ipython3",
   "version": "3.11.2"
  },
  "orig_nbformat": 4
 },
 "nbformat": 4,
 "nbformat_minor": 2
}
